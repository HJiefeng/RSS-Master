{
 "cells": [
  {
   "cell_type": "code",
   "execution_count": null,
   "metadata": {},
   "outputs": [],
   "source": [
    "import feedparser\n",
    "from logging import getLogger\n",
    "import logging\n",
    "from bs4 import BeautifulSoup\n",
    "from src.util import init_logger, md5hash_6\n",
    "import yaml"
   ]
  },
  {
   "cell_type": "code",
   "execution_count": null,
   "metadata": {},
   "outputs": [],
   "source": [
    "# 下面的代码需要输出上面的格式\n",
    "def new_rss(rss_url, html_url, text, use_chatgpt):\n",
    "    config = f\"\"\"\n",
    "    - htmlUrl: {html_url}\n",
    "      name: {md5hash_6(rss_url)}\n",
    "      text: {text}\n",
    "      url: {rss_url}\n",
    "      use_chatgpt: {use_chatgpt}\n",
    "    \"\"\"\n",
    "    return config\n",
    "\n",
    "\n",
    "res = new_rss(\"https://www.jiqizhixin.com/rss\",\n",
    "              \"https://www.jiqizhixin.com\", \"机器之心\", True)\n",
    "print(res)"
   ]
  },
  {
   "cell_type": "code",
   "execution_count": null,
   "metadata": {},
   "outputs": [],
   "source": [
    "md5hash_6(\"https://rsshub.dcts.top/wechat/ce/5b0cc833f3a2e44bb474843d\")"
   ]
  },
  {
   "cell_type": "code",
   "execution_count": null,
   "metadata": {},
   "outputs": [],
   "source": [
    "data = feedparser.parse(\n",
    "    \"https://rsshub.dcts.top/wechat/ce/5b0cc833f3a2e44bb474843d\")\n",
    "data"
   ]
  },
  {
   "cell_type": "code",
   "execution_count": null,
   "metadata": {},
   "outputs": [],
   "source": [
    "import requests\n",
    "import feedparser\n",
    "from logging import getLogger\n",
    "from pprint import pprint as print\n",
    "logger = getLogger(\"test\")\n",
    "\n",
    "\n",
    "def get_feeds(rss):\n",
    "    try:\n",
    "        feed = feedparser.parse(\"url\")\n",
    "    except Exception as e:\n",
    "        logger.error(f\"解析错误: {e}\")\n",
    "        raise e\n",
    "    if feed.bozo:\n",
    "        print(f\"{feed}\")\n",
    "        error = feed.get(\"bozo_exception\", \"\")\n",
    "        if error:\n",
    "            feed = feedparser.parse(response)\n",
    "            logger.error(f\"解析错误:, error:{error}\")\n",
    "        else:\n",
    "            logger.error(f\"解析错误\")\n",
    "        return None\n",
    "    return feed\n",
    "\n",
    "\n",
    "# cfg = get_feeds(\"https://baoyu.io/feed.xml\")\n",
    "# cfg.get(\"bozo_exception\")\n",
    "\n",
    "response = requests.get(\"https://baoyu.io/feed.xml\")\n",
    "print(response)"
   ]
  },
  {
   "cell_type": "code",
   "execution_count": null,
   "metadata": {},
   "outputs": [],
   "source": [
    "# 读取pickle\n",
    "import pickle\n",
    "with open(\"resource/cache.pkl\", \"rb\") as f:\n",
    "    feeds = pickle.load(f)\n",
    "print(feeds)"
   ]
  },
  {
   "cell_type": "code",
   "execution_count": null,
   "metadata": {},
   "outputs": [],
   "source": [
    "text = \"测试\"\n",
    "text = text.replace('```', \" \")\n",
    "prompt = f\"\"\"\n",
    "假设你是一位多语言的文字编辑工作者,有丰富的文字内容创作经验,对于<>括起来的文本,我需要你\n",
    "1. 生成4个关键词\n",
    "2. 使用中文进行概括,要包含原文核心思想和概念,不增加自己的解释,不超过8句话\n",
    "\n",
    "请使用一下格式:\n",
    "关键词: <提取出来的关键词,使用逗号分割>\n",
    "<br>\n",
    "<br>\n",
    "总结: <中文概括>\n",
    "\n",
    "Text: <{text}>\n",
    "\"\"\""
   ]
  }
 ],
 "metadata": {
  "kernelspec": {
   "display_name": "rss",
   "language": "python",
   "name": "python3"
  },
  "language_info": {
   "codemirror_mode": {
    "name": "ipython",
    "version": 3
   },
   "file_extension": ".py",
   "mimetype": "text/x-python",
   "name": "python",
   "nbconvert_exporter": "python",
   "pygments_lexer": "ipython3",
   "version": "3.8.17"
  },
  "orig_nbformat": 4
 },
 "nbformat": 4,
 "nbformat_minor": 2
}
